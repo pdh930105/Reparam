{
 "cells": [
  {
   "cell_type": "code",
   "execution_count": 11,
   "metadata": {},
   "outputs": [],
   "source": [
    "import torch\n",
    "import timm\n",
    "from timm.models.hub import load_model_config_from_hf\n",
    "from timm.models.factory import parse_model_name\n",
    "from timm.models.registry import register_model, model_entrypoint\n",
    "from urllib.parse import urlsplit\n",
    "from timm.data import IMAGENET_DEFAULT_MEAN, IMAGENET_DEFAULT_STD\n",
    "\n",
    "\n",
    "from timm.models.helpers import _resolve_pretrained_source"
   ]
  },
  {
   "cell_type": "code",
   "execution_count": 13,
   "metadata": {},
   "outputs": [
    {
     "data": {
      "text/plain": [
       "('hf-hub', 'timm/')"
      ]
     },
     "execution_count": 13,
     "metadata": {},
     "output_type": "execute_result"
    }
   ],
   "source": [
    "def _cfg(url='', **kwargs):\n",
    "    return {\n",
    "        'url': url, 'num_classes': 1000, 'input_size': (3, 224, 224), 'pool_size': (7, 7),\n",
    "        'crop_pct': 0.875, 'interpolation': 'bilinear',\n",
    "        'mean': IMAGENET_DEFAULT_MEAN, 'std': IMAGENET_DEFAULT_STD,\n",
    "        'first_conv': 'stem.conv', 'classifier': 'head.fc',\n",
    "        **kwargs\n",
    "    }\n",
    "\n",
    "default_cfgs = {'repvgg_a0.rvgg_in1k': _cfg(\n",
    "        hf_hub_id='timm/',\n",
    "        first_conv=('stem.conv_kxk.conv', 'stem.conv_1x1.conv'), license='mit')}\n",
    "\n",
    "_resolve_pretrained_source(default_cfgs['repvgg_a0.rvgg_in1k'])"
   ]
  },
  {
   "cell_type": "code",
   "execution_count": 8,
   "metadata": {},
   "outputs": [
    {
     "data": {
      "text/plain": [
       "SplitResult(scheme='', netloc='', path='resnet18', query='', fragment='')"
      ]
     },
     "execution_count": 8,
     "metadata": {},
     "output_type": "execute_result"
    }
   ],
   "source": [
    "model_name, pretrained_tag = split_model_name_tag(model_name)"
   ]
  }
 ],
 "metadata": {
  "kernelspec": {
   "display_name": "Python 3",
   "language": "python",
   "name": "python3"
  },
  "language_info": {
   "codemirror_mode": {
    "name": "ipython",
    "version": 3
   },
   "file_extension": ".py",
   "mimetype": "text/x-python",
   "name": "python",
   "nbconvert_exporter": "python",
   "pygments_lexer": "ipython3",
   "version": "3.10.12"
  }
 },
 "nbformat": 4,
 "nbformat_minor": 2
}
